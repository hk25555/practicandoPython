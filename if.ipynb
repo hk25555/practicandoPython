{
 "cells": [
  {
   "cell_type": "markdown",
   "metadata": {},
   "source": [
    "El condicional mas basico es la condicional if\n",
    "\n",
    "<img src=\"if.png\">\n",
    "\n",
    "Condicional= Decision\n",
    "\n",
    "En palabras sencillas es tomar una decision y saber que pasara si eliges por ejemplo entrar o no a clases "
   ]
  },
  {
   "cell_type": "markdown",
   "metadata": {},
   "source": [
    "1. Crea un diagrama en el que decidas si entras o no a clases <br>\n",
    "<img src=\"Diagrama.png\">"
   ]
  },
  {
   "cell_type": "markdown",
   "metadata": {},
   "source": [
    "2. Crea un programa que diga si debe de tomar coca-cola fria o no dependiendo de la temperatura, es decir, le preguntas si tiene calor, si la respuesta es si, debe de tomar coca-cola fria\n",
    "en caso de que no solo debe de tomar coca-cola\n"
   ]
  },
  {
   "cell_type": "code",
   "execution_count": null,
   "metadata": {},
   "outputs": [],
   "source": [
    "a='''Tengo calor???'''\n",
    "print(a)\n",
    "print('ingresa SI o NO')\n",
    "x=input()\n",
    "y=\"SI\"\n",
    "z=\"NO\"\n",
    "if x==y:\n",
    "  print(y,\"TOMA COCA FRIA \")\n",
    "else :\n",
    "   print(z,\"SOLO TOMA COCA\")"
   ]
  },
  {
   "cell_type": "markdown",
   "metadata": {},
   "source": [
    "3. Crea un programa que diga si le alcanza para el camion o no, sabiendo que el camion cuesta 12 pesos "
   ]
  },
  {
   "cell_type": "code",
   "execution_count": null,
   "metadata": {},
   "outputs": [],
   "source": [
    "x= int(input(\"Ingresa el dinero que tienes\"))\n",
    "while x<=0:\n",
    "  x= int(input(\"Ingresa el dinero que tienes\"))\n",
    "if x>=18 :\n",
    "   print(\"Si te alcanza\",x)\n",
    "else:\n",
    "   print(\"No te alcanza\")"
   ]
  },
  {
   "cell_type": "markdown",
   "metadata": {},
   "source": [
    "4. Crea un programa que diga si eres mayor o menor de edad "
   ]
  },
  {
   "cell_type": "code",
   "execution_count": null,
   "metadata": {},
   "outputs": [],
   "source": [
    "g= int(input(\"Ingresa la edad MAYOR A CERO: \"))\n",
    "while g<=0:\n",
    "  g= int(input(\"Ingresa la edad MAYOR A CERO: \"))\n",
    "if g>=18 :\n",
    "   print(\"Soy mayor de edad\",x)\n",
    "else:\n",
    "   print(\"Soy menor de edad\")"
   ]
  },
  {
   "cell_type": "markdown",
   "metadata": {},
   "source": [
    "5. Agrega un programa con ifs anidados"
   ]
  },
  {
   "cell_type": "code",
   "execution_count": null,
   "metadata": {},
   "outputs": [],
   "source": [
    "a='''Debo ir a la escuela'''\n",
    "print(a)\n",
    "print('ingresa SI o NO')\n",
    "x=input()\n",
    "y=\"SI\"\n",
    "z=\"NO\"\n",
    "if x==y:\n",
    "  print(y,\"SOMO CUMPLIDOS \")\n",
    "else :\n",
    "   print(z,\"ME DA FLOJERA \")"
   ]
  }
 ],
 "metadata": {
  "kernelspec": {
   "display_name": "Python 3",
   "language": "python",
   "name": "python3"
  },
  "language_info": {
   "name": "python",
   "version": "3.11.3"
  }
 },
 "nbformat": 4,
 "nbformat_minor": 2
}
