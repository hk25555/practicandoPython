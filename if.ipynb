{
 "cells": [
  {
   "cell_type": "markdown",
   "metadata": {},
   "source": [
    "El condicional mas basico es la condicional if\n",
    "\n",
    "<img src=\"if.png\">\n",
    "\n",
    "Condicional= Decision\n",
    "\n",
    "En palabras sencillas es tomar una decision y saber que pasara si eliges por ejemplo entrar o no a clases "
   ]
  },
  {
   "cell_type": "markdown",
   "metadata": {},
   "source": [
    "1. Crea un diagrama en el que decidas si entras o no a clases <br>\n",
    "<img src=\"MiDiAGRAMA.png\">"
   ]
  },
  {
   "cell_type": "markdown",
   "metadata": {},
   "source": [
    "2. Crea un programa que diga si debe de tomar coca-cola fria o no dependiendo de la temperatura, es decir, le preguntas si tiene calor, si la respuesta es si, debe de tomar coca-cola fria\n",
    "en caso de que no solo debe de tomar coca-cola\n"
   ]
  },
  {
   "cell_type": "code",
   "execution_count": 8,
   "metadata": {},
   "outputs": [
    {
     "name": "stdout",
     "output_type": "stream",
     "text": [
      "Tienes calor?\n",
      "tomate una coca cola fria\n"
     ]
    }
   ],
   "source": [
    "print(\"Tienes calor?\")\n",
    "termino = input()\n",
    "if termino == \"si\":\n",
    "  print((\"tomate una coca cola fria\"))\n",
    "elif termino == \"no\":\n",
    "  print((\"tomate una coca cola\"))"
   ]
  },
  {
   "cell_type": "code",
   "execution_count": null,
   "metadata": {},
   "outputs": [],
   "source": []
  },
  {
   "cell_type": "markdown",
   "metadata": {},
   "source": [
    "3. Crea un programa que diga si le alcanza para el camion o no, sabiendo que el camion cuesta 12 pesos "
   ]
  },
  {
   "cell_type": "code",
   "execution_count": 9,
   "metadata": {},
   "outputs": [
    {
     "name": "stdout",
     "output_type": "stream",
     "text": [
      "cuanto dinero tienes?\n",
      "no te alcanza para el bus\n"
     ]
    }
   ],
   "source": [
    "print(\"cuanto dinero tienes?\")\n",
    "termino = input()\n",
    "if int(termino) <=12:\n",
    "    print((\"no te alcanza para el bus\"))\n",
    "elif int(termino) >=12:\n",
    "    print((\"si te alcanza para el bus\"))"
   ]
  },
  {
   "cell_type": "markdown",
   "metadata": {},
   "source": [
    "4. Crea un programa que diga si eres mayor o menor de edad "
   ]
  },
  {
   "cell_type": "code",
   "execution_count": 10,
   "metadata": {},
   "outputs": [
    {
     "name": "stdout",
     "output_type": "stream",
     "text": [
      "cuantos años tienes?\n",
      "eres menor de edad\n"
     ]
    }
   ],
   "source": [
    "print(\"cuantos años tienes?\")\n",
    "termino = input()\n",
    "if int(termino) <=18:\n",
    "    print((\"eres menor de edad\"))\n",
    "elif int(termino) >=18:\n",
    "    print((\"eres mayor de edad\"))      "
   ]
  },
  {
   "cell_type": "markdown",
   "metadata": {},
   "source": [
    "5. Agrega un programa con ifs anidados"
   ]
  },
  {
   "cell_type": "code",
   "execution_count": 22,
   "metadata": {},
   "outputs": [
    {
     "name": "stdout",
     "output_type": "stream",
     "text": [
      "Ingresa la cantidad que tienes en el banco\n",
      "eres millonario\n"
     ]
    }
   ],
   "source": [
    "print(\"Ingresa la cantidad que tienes en el banco\")\n",
    "termino = input()\n",
    "if int(termino) < 1000:\n",
    "    print(\"Eres pobre\")\n",
    "else:\n",
    "    if int(termino) < 100000:\n",
    "        print(\"eres rico pero no eres millonario\")\n",
    "    else:\n",
    "        print(\"eres millonario\")"
   ]
  }
 ],
 "metadata": {
  "kernelspec": {
   "display_name": "Python 3",
   "language": "python",
   "name": "python3"
  },
  "language_info": {
   "codemirror_mode": {
    "name": "ipython",
    "version": 3
   },
   "file_extension": ".py",
   "mimetype": "text/x-python",
   "name": "python",
   "nbconvert_exporter": "python",
   "pygments_lexer": "ipython3",
   "version": "3.11.3"
  }
 },
 "nbformat": 4,
 "nbformat_minor": 2
}
