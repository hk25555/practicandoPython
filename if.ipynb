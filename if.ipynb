{
 "cells": [
  {
   "cell_type": "markdown",
   "metadata": {},
   "source": [
    "El condicional mas basico es la condicional if\n",
    "\n",
    "<img src=\"if.png\">\n",
    "\n",
    "Condicional= Decision\n",
    "\n",
    "En palabras sencillas es tomar una decision y saber que pasara si eliges por ejemplo entrar o no a clases "
   ]
  },
  {
   "cell_type": "markdown",
   "metadata": {},
   "source": [
    "1. Crea un diagrama en el que decidas si entras o no a clases <br>\n",
    "<img src=\"diagrama israel.drawio.png\">"
   ]
  },
  {
   "cell_type": "markdown",
   "metadata": {},
   "source": [
    "2. Crea un programa que diga si debe de tomar coca-cola fria o no dependiendo de la temperatura, es decir, le preguntas si tiene calor, si la respuesta es si, debe de tomar coca-cola fria\n",
    "en caso de que no solo debe de tomar coca-cola\n"
   ]
  },
  {
   "cell_type": "code",
   "execution_count": 11,
   "metadata": {},
   "outputs": [
    {
     "name": "stdout",
     "output_type": "stream",
     "text": [
      "Puedes tomar Coca Cola a temperatura ambiente.\n"
     ]
    }
   ],
   "source": [
    "calor = input(\"¿Tienes calor? (si/no): \")\n",
    "if calor.lower() == \"si\":\n",
    "    print(\"Deberias toma Coca Cola fria.\")\n",
    "else:\n",
    "    print(\"Puedes tomar Coca Cola a temperatura ambiente.\")"
   ]
  },
  {
   "cell_type": "markdown",
   "metadata": {},
   "source": [
    "3. Crea un programa que diga si le alcanza para el camion o no, sabiendo que el camion cuesta 12 pesos "
   ]
  },
  {
   "cell_type": "code",
   "execution_count": 13,
   "metadata": {},
   "outputs": [
    {
     "name": "stdout",
     "output_type": "stream",
     "text": [
      "Puedes pagar el camion.\n"
     ]
    }
   ],
   "source": [
    "dinero = float(input(\"ingrese la cantidad de dinero que tiene: \"))\n",
    "costo_camion = 12\n",
    "if dinero >= costo_camion:\n",
    "    print(\"Puedes pagar el camion.\")\n",
    "else:\n",
    "    print(\"no puedes pagar el camion.\")\n"
   ]
  },
  {
   "cell_type": "markdown",
   "metadata": {},
   "source": [
    "4. Crea un programa que diga si eres mayor o menor de edad "
   ]
  },
  {
   "cell_type": "code",
   "execution_count": 14,
   "metadata": {},
   "outputs": [
    {
     "name": "stdout",
     "output_type": "stream",
     "text": [
      "eres menor de edad.\n"
     ]
    }
   ],
   "source": [
    "# solicitar al usuario que ingrese su edad\n",
    "edad = int(input(\"ingresa tu edad: \"))\n",
    "# verificar si la edad es mayor o igual a 18\n",
    "if edad >=18:\n",
    "    print(\"eres mayor de edad.\")\n",
    "else:\n",
    "    print(\"eres menor de edad.\")"
   ]
  },
  {
   "cell_type": "markdown",
   "metadata": {},
   "source": [
    "5. Agrega un programa con ifs anidados"
   ]
  },
  {
   "cell_type": "code",
   "execution_count": null,
   "metadata": {},
   "outputs": [],
   "source": [
    "edad = int(input(\"introduce tu edad: \"))\n",
    "if edad >= 18:\n",
    "    if edad> 66:\n",
    "        print(\"eres un viejito\")\n",
    "    else:\n",
    "        print(\"eres un chavorruco\")\n",
    "else:\n",
    "    if edad >3:\n",
    "        print(\"eres jovencito\")\n",
    "    else:\n",
    "        print(\"eres un bebe precioso\")\n"
   ]
  }
 ],
 "metadata": {
  "kernelspec": {
   "display_name": "Python 3",
   "language": "python",
   "name": "python3"
  },
  "language_info": {
   "codemirror_mode": {
    "name": "ipython",
    "version": 3
   },
   "file_extension": ".py",
   "mimetype": "text/x-python",
   "name": "python",
   "nbconvert_exporter": "python",
   "pygments_lexer": "ipython3",
   "version": "3.12.2"
  }
 },
 "nbformat": 4,
 "nbformat_minor": 2
}
